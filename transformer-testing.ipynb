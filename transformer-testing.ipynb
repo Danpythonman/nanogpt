{
 "cells": [
  {
   "cell_type": "code",
   "execution_count": 1,
   "id": "3cecb140",
   "metadata": {},
   "outputs": [],
   "source": [
    "import typing\n",
    "import math\n",
    "import random\n",
    "\n",
    "import matplotlib.pyplot as plt\n",
    "import torch\n",
    "import torch.nn as nn\n",
    "from torch.nn import functional as F\n",
    "from torch import Tensor\n",
    "\n",
    "from model.transformer import Transformer"
   ]
  },
  {
   "cell_type": "code",
   "execution_count": 2,
   "id": "bead877e",
   "metadata": {},
   "outputs": [
    {
     "name": "stdout",
     "output_type": "stream",
     "text": [
      "Torch version: 2.5.1\n",
      "CUDA available: True\n",
      "CUDA version: 12.4\n",
      "Current device: 0\n",
      "Device name: NVIDIA GeForce RTX 3060\n"
     ]
    }
   ],
   "source": [
    "print(\"Torch version:\", torch.__version__)\n",
    "print(\"CUDA available:\", torch.cuda.is_available())\n",
    "print(\"CUDA version:\", torch.version.cuda)\n",
    "print(\"Current device:\", torch.cuda.current_device() if torch.cuda.is_available() else \"N/A\")\n",
    "print(\"Device name:\", torch.cuda.get_device_name(0) if torch.cuda.is_available() else \"N/A\")"
   ]
  },
  {
   "cell_type": "code",
   "execution_count": 3,
   "id": "52d60328",
   "metadata": {},
   "outputs": [
    {
     "name": "stdout",
     "output_type": "stream",
     "text": [
      "Using CUDA\n"
     ]
    }
   ],
   "source": [
    "if torch.cuda.is_available():\n",
    "    device = torch.device('cuda')\n",
    "    print('Using CUDA')\n",
    "else:\n",
    "    device = torch.device('cpu')\n",
    "    print('Using CPU')"
   ]
  },
  {
   "cell_type": "code",
   "execution_count": 4,
   "id": "aefc8917",
   "metadata": {},
   "outputs": [
    {
     "data": {
      "text/plain": [
       "<torch._C.Generator at 0x79c96cdd1d90>"
      ]
     },
     "execution_count": 4,
     "metadata": {},
     "output_type": "execute_result"
    }
   ],
   "source": [
    "torch.manual_seed(1337)"
   ]
  },
  {
   "cell_type": "code",
   "execution_count": 5,
   "id": "94cde809",
   "metadata": {},
   "outputs": [],
   "source": [
    "with open('tiny-shakespeare.txt', 'r', encoding='utf-8') as f:\n",
    "    text = f.read()"
   ]
  },
  {
   "cell_type": "code",
   "execution_count": 6,
   "id": "37f2008f",
   "metadata": {},
   "outputs": [
    {
     "data": {
      "text/plain": [
       "1115393"
      ]
     },
     "execution_count": 6,
     "metadata": {},
     "output_type": "execute_result"
    }
   ],
   "source": [
    "len(text)"
   ]
  },
  {
   "cell_type": "code",
   "execution_count": 7,
   "id": "99290b9a",
   "metadata": {},
   "outputs": [
    {
     "name": "stdout",
     "output_type": "stream",
     "text": [
      "First Citizen:\n",
      "Before we proceed any further, hear me speak.\n",
      "\n",
      "All:\n",
      "Speak, speak.\n",
      "\n",
      "First Citizen:\n",
      "You are all resolved rather to die than to famish?\n",
      "\n",
      "All:\n",
      "Resolved. resolved.\n",
      "\n",
      "First Citizen:\n",
      "First, you know Caius Marcius is chief enemy to the people.\n",
      "\n",
      "All:\n",
      "We know't, we know't.\n",
      "\n",
      "First Citizen:\n",
      "Let us kill him, and we'll have corn at our own price.\n",
      "Is't a verdict?\n",
      "\n",
      "All:\n",
      "No more talking on't; let it be done: away, away!\n",
      "\n",
      "Second Citizen:\n",
      "One word, good citizens.\n",
      "\n",
      "First Citizen:\n",
      "We are accounted poor citizens, the patricians good.\n",
      "What authority surfeits on would relieve us: if they\n",
      "would yield us but the superfluity, while it were\n",
      "wholesome, we might guess they relieved us humanely;\n",
      "but they think we are too dear: the leanness that\n",
      "afflicts us, the object of our misery, is as an\n",
      "inventory to particularise their abundance; our\n",
      "sufferance is a gain to them Let us revenge this with\n",
      "our pikes, ere we become rakes: for the gods know I\n",
      "speak this in hunger for bread, not in thirst for revenge.\n",
      "\n",
      "\n"
     ]
    }
   ],
   "source": [
    "print(text[:1000])"
   ]
  },
  {
   "cell_type": "code",
   "execution_count": 8,
   "id": "6fa89e77",
   "metadata": {},
   "outputs": [
    {
     "name": "stdout",
     "output_type": "stream",
     "text": [
      "\n",
      " !$&',-.3:;?ABCDEFGHIJKLMNOPQRSTUVWXYZabcdefghijklmnopqrstuvwxyz\n"
     ]
    }
   ],
   "source": [
    "chars = sorted(list(set(text)))\n",
    "print(str().join(chars))"
   ]
  },
  {
   "cell_type": "code",
   "execution_count": 9,
   "id": "e9ea8ec3",
   "metadata": {},
   "outputs": [
    {
     "data": {
      "text/plain": [
       "65"
      ]
     },
     "execution_count": 9,
     "metadata": {},
     "output_type": "execute_result"
    }
   ],
   "source": [
    "vocab_size = len(chars)\n",
    "vocab_size"
   ]
  },
  {
   "cell_type": "code",
   "execution_count": 10,
   "id": "b0746f7b",
   "metadata": {},
   "outputs": [
    {
     "name": "stdout",
     "output_type": "stream",
     "text": [
      "{'\\n': 0, ' ': 1, '!': 2, '$': 3, '&': 4, \"'\": 5, ',': 6, '-': 7, '.': 8, '3': 9, ':': 10, ';': 11, '?': 12, 'A': 13, 'B': 14, 'C': 15, 'D': 16, 'E': 17, 'F': 18, 'G': 19, 'H': 20, 'I': 21, 'J': 22, 'K': 23, 'L': 24, 'M': 25, 'N': 26, 'O': 27, 'P': 28, 'Q': 29, 'R': 30, 'S': 31, 'T': 32, 'U': 33, 'V': 34, 'W': 35, 'X': 36, 'Y': 37, 'Z': 38, 'a': 39, 'b': 40, 'c': 41, 'd': 42, 'e': 43, 'f': 44, 'g': 45, 'h': 46, 'i': 47, 'j': 48, 'k': 49, 'l': 50, 'm': 51, 'n': 52, 'o': 53, 'p': 54, 'q': 55, 'r': 56, 's': 57, 't': 58, 'u': 59, 'v': 60, 'w': 61, 'x': 62, 'y': 63, 'z': 64}\n"
     ]
    }
   ],
   "source": [
    "stoi = {ch: i for i, ch in enumerate(chars)}\n",
    "print(stoi)"
   ]
  },
  {
   "cell_type": "code",
   "execution_count": 11,
   "id": "484b0d46",
   "metadata": {},
   "outputs": [
    {
     "name": "stdout",
     "output_type": "stream",
     "text": [
      "{0: '\\n', 1: ' ', 2: '!', 3: '$', 4: '&', 5: \"'\", 6: ',', 7: '-', 8: '.', 9: '3', 10: ':', 11: ';', 12: '?', 13: 'A', 14: 'B', 15: 'C', 16: 'D', 17: 'E', 18: 'F', 19: 'G', 20: 'H', 21: 'I', 22: 'J', 23: 'K', 24: 'L', 25: 'M', 26: 'N', 27: 'O', 28: 'P', 29: 'Q', 30: 'R', 31: 'S', 32: 'T', 33: 'U', 34: 'V', 35: 'W', 36: 'X', 37: 'Y', 38: 'Z', 39: 'a', 40: 'b', 41: 'c', 42: 'd', 43: 'e', 44: 'f', 45: 'g', 46: 'h', 47: 'i', 48: 'j', 49: 'k', 50: 'l', 51: 'm', 52: 'n', 53: 'o', 54: 'p', 55: 'q', 56: 'r', 57: 's', 58: 't', 59: 'u', 60: 'v', 61: 'w', 62: 'x', 63: 'y', 64: 'z'}\n"
     ]
    }
   ],
   "source": [
    "itos = {i: ch for ch, i in stoi.items()}\n",
    "print(itos)"
   ]
  },
  {
   "cell_type": "code",
   "execution_count": 12,
   "id": "4b4a5f96",
   "metadata": {},
   "outputs": [],
   "source": [
    "def encode(s: str) -> typing.List[int]:\n",
    "    return [stoi[c] for c in s]\n",
    "\n",
    "def decode(ints: typing.List[int]) -> str:\n",
    "    return str().join(itos[i] for i in ints)"
   ]
  },
  {
   "cell_type": "code",
   "execution_count": 13,
   "id": "8766cc66",
   "metadata": {},
   "outputs": [
    {
     "name": "stdout",
     "output_type": "stream",
     "text": [
      "[46, 43, 50, 50, 53, 1, 61, 53, 56, 50, 42]\n",
      "hello world\n"
     ]
    }
   ],
   "source": [
    "print(encode('hello world'))\n",
    "print(decode(encode('hello world')))"
   ]
  },
  {
   "cell_type": "code",
   "execution_count": 14,
   "id": "60e8874c",
   "metadata": {},
   "outputs": [
    {
     "data": {
      "text/plain": [
       "1115393"
      ]
     },
     "execution_count": 14,
     "metadata": {},
     "output_type": "execute_result"
    }
   ],
   "source": [
    "encoded_text = encode(text)\n",
    "len(encoded_text)"
   ]
  },
  {
   "cell_type": "code",
   "execution_count": 15,
   "id": "98ed2643",
   "metadata": {},
   "outputs": [
    {
     "data": {
      "text/plain": [
       "torch.Size([1115393])"
      ]
     },
     "execution_count": 15,
     "metadata": {},
     "output_type": "execute_result"
    }
   ],
   "source": [
    "data = torch.tensor(encoded_text, dtype=torch.long, device=device)\n",
    "data.shape"
   ]
  },
  {
   "cell_type": "code",
   "execution_count": 16,
   "id": "84fda406",
   "metadata": {},
   "outputs": [
    {
     "data": {
      "text/plain": [
       "tensor([18, 47, 56, 57, 58,  1, 15, 47, 58, 47, 64, 43, 52, 10,  0, 14, 43, 44,\n",
       "        53, 56, 43,  1, 61, 43,  1, 54, 56, 53, 41, 43, 43, 42,  1, 39, 52, 63,\n",
       "         1, 44, 59, 56, 58, 46, 43, 56,  6,  1, 46, 43, 39, 56,  1, 51, 43,  1,\n",
       "        57, 54, 43, 39, 49,  8,  0,  0, 13, 50, 50, 10,  0, 31, 54, 43, 39, 49,\n",
       "         6,  1, 57, 54, 43, 39, 49,  8,  0,  0, 18, 47, 56, 57, 58,  1, 15, 47,\n",
       "        58, 47, 64, 43, 52, 10,  0, 37, 53, 59], device='cuda:0')"
      ]
     },
     "execution_count": 16,
     "metadata": {},
     "output_type": "execute_result"
    }
   ],
   "source": [
    "data[:100]"
   ]
  },
  {
   "cell_type": "code",
   "execution_count": 17,
   "id": "9754cb06",
   "metadata": {},
   "outputs": [
    {
     "name": "stdout",
     "output_type": "stream",
     "text": [
      "Training size: 1003853, Validation size: 111540\n"
     ]
    }
   ],
   "source": [
    "n = int(0.9 * len(data))\n",
    "train_data = data[:n]\n",
    "val_data = data[n:]\n",
    "print(f'Training size: {len(train_data)}, Validation size: {len(val_data)}')"
   ]
  },
  {
   "cell_type": "code",
   "execution_count": 18,
   "id": "ec4707d8",
   "metadata": {},
   "outputs": [],
   "source": [
    "block_size = 8 # Also called \"context length\""
   ]
  },
  {
   "cell_type": "code",
   "execution_count": 19,
   "id": "b3db3080",
   "metadata": {},
   "outputs": [
    {
     "name": "stdout",
     "output_type": "stream",
     "text": [
      "--- As characters ---\n",
      "When the input is F the next character is i\n",
      "When the input is Fi the next character is r\n",
      "When the input is Fir the next character is s\n",
      "When the input is Firs the next character is t\n",
      "When the input is First the next character is  \n",
      "When the input is First  the next character is C\n",
      "When the input is First C the next character is i\n",
      "When the input is First Ci the next character is t\n",
      "--- Encoded ---\n",
      "When the input is tensor([18], device='cuda:0') the next character is 47\n",
      "When the input is tensor([18, 47], device='cuda:0') the next character is 56\n",
      "When the input is tensor([18, 47, 56], device='cuda:0') the next character is 57\n",
      "When the input is tensor([18, 47, 56, 57], device='cuda:0') the next character is 58\n",
      "When the input is tensor([18, 47, 56, 57, 58], device='cuda:0') the next character is 1\n",
      "When the input is tensor([18, 47, 56, 57, 58,  1], device='cuda:0') the next character is 15\n",
      "When the input is tensor([18, 47, 56, 57, 58,  1, 15], device='cuda:0') the next character is 47\n",
      "When the input is tensor([18, 47, 56, 57, 58,  1, 15, 47], device='cuda:0') the next character is 58\n"
     ]
    }
   ],
   "source": [
    "xb = train_data[:block_size]\n",
    "yb = train_data[1:block_size+1]\n",
    "print('--- As characters ---')\n",
    "for t in range(block_size):\n",
    "    context = xb[:t+1]\n",
    "    target = yb[t]\n",
    "    print(f'When the input is {decode(context.tolist())} the next character is {itos[target.item()]}')\n",
    "print('--- Encoded ---')\n",
    "for t in range(block_size):\n",
    "    context = xb[:t+1]\n",
    "    target = yb[t]\n",
    "    print(f'When the input is {context} the next character is {target}')"
   ]
  },
  {
   "cell_type": "code",
   "execution_count": 20,
   "id": "fa4cfb0f",
   "metadata": {},
   "outputs": [],
   "source": [
    "def get_batch(dataset: Tensor, batch_size: int, block_size: int, device=None) -> typing.Tuple[Tensor, Tensor]:\n",
    "    '''\n",
    "    Gets a batch of `batch_size` examples from `dataset`. Each example will\n",
    "    consist of `block_size` characters. The inputs and labels will both be\n",
    "    returned, both of which will be of size `(batch_size, block_size)`.\n",
    "    '''\n",
    "\n",
    "    ix = torch.randint(low=0, high=len(dataset)-block_size, size=(batch_size,), device=device)\n",
    "    x = torch.stack([data[i:i+block_size] for i in ix])\n",
    "    y = torch.stack([data[i+1:i+block_size+1] for i in ix])\n",
    "    return x, y"
   ]
  },
  {
   "cell_type": "code",
   "execution_count": 21,
   "id": "8d1f88af",
   "metadata": {},
   "outputs": [
    {
     "name": "stdout",
     "output_type": "stream",
     "text": [
      "torch.Size([4, 8])\n",
      "tensor([[35, 56, 43, 52, 41, 46,  1, 59],\n",
      "        [56, 50, 47, 49, 43,  1, 44, 39],\n",
      "        [13,  1, 50, 47, 58, 58, 50, 43],\n",
      "        [51,  6,  1, 47, 44,  1, 51, 63]], device='cuda:0')\n",
      "torch.Size([4, 8])\n",
      "tensor([[56, 43, 52, 41, 46,  1, 59, 54],\n",
      "        [50, 47, 49, 43,  1, 44, 39, 58],\n",
      "        [ 1, 50, 47, 58, 58, 50, 43,  1],\n",
      "        [ 6,  1, 47, 44,  1, 51, 63,  1]], device='cuda:0')\n"
     ]
    }
   ],
   "source": [
    "batch_size = 4\n",
    "xb, yb = get_batch(train_data, batch_size=batch_size, block_size=block_size, device=device)\n",
    "print(xb.shape)\n",
    "print(xb)\n",
    "print(yb.shape)\n",
    "print(yb)"
   ]
  },
  {
   "cell_type": "code",
   "execution_count": 22,
   "id": "b116c349",
   "metadata": {},
   "outputs": [
    {
     "name": "stdout",
     "output_type": "stream",
     "text": [
      "Example 0\n",
      "Block 0: When the input is tensor([35], device='cuda:0') the next character is 56\n",
      "Block 1: When the input is tensor([35, 56], device='cuda:0') the next character is 43\n",
      "Block 2: When the input is tensor([35, 56, 43], device='cuda:0') the next character is 52\n",
      "Block 3: When the input is tensor([35, 56, 43, 52], device='cuda:0') the next character is 41\n",
      "Block 4: When the input is tensor([35, 56, 43, 52, 41], device='cuda:0') the next character is 46\n",
      "Block 5: When the input is tensor([35, 56, 43, 52, 41, 46], device='cuda:0') the next character is 1\n",
      "Block 6: When the input is tensor([35, 56, 43, 52, 41, 46,  1], device='cuda:0') the next character is 59\n",
      "Block 7: When the input is tensor([35, 56, 43, 52, 41, 46,  1, 59], device='cuda:0') the next character is 54\n",
      "Example 1\n",
      "Block 0: When the input is tensor([56], device='cuda:0') the next character is 50\n",
      "Block 1: When the input is tensor([56, 50], device='cuda:0') the next character is 47\n",
      "Block 2: When the input is tensor([56, 50, 47], device='cuda:0') the next character is 49\n",
      "Block 3: When the input is tensor([56, 50, 47, 49], device='cuda:0') the next character is 43\n",
      "Block 4: When the input is tensor([56, 50, 47, 49, 43], device='cuda:0') the next character is 1\n",
      "Block 5: When the input is tensor([56, 50, 47, 49, 43,  1], device='cuda:0') the next character is 44\n",
      "Block 6: When the input is tensor([56, 50, 47, 49, 43,  1, 44], device='cuda:0') the next character is 39\n",
      "Block 7: When the input is tensor([56, 50, 47, 49, 43,  1, 44, 39], device='cuda:0') the next character is 58\n",
      "Example 2\n",
      "Block 0: When the input is tensor([13], device='cuda:0') the next character is 1\n",
      "Block 1: When the input is tensor([13,  1], device='cuda:0') the next character is 50\n",
      "Block 2: When the input is tensor([13,  1, 50], device='cuda:0') the next character is 47\n",
      "Block 3: When the input is tensor([13,  1, 50, 47], device='cuda:0') the next character is 58\n",
      "Block 4: When the input is tensor([13,  1, 50, 47, 58], device='cuda:0') the next character is 58\n",
      "Block 5: When the input is tensor([13,  1, 50, 47, 58, 58], device='cuda:0') the next character is 50\n",
      "Block 6: When the input is tensor([13,  1, 50, 47, 58, 58, 50], device='cuda:0') the next character is 43\n",
      "Block 7: When the input is tensor([13,  1, 50, 47, 58, 58, 50, 43], device='cuda:0') the next character is 1\n",
      "Example 3\n",
      "Block 0: When the input is tensor([51], device='cuda:0') the next character is 6\n",
      "Block 1: When the input is tensor([51,  6], device='cuda:0') the next character is 1\n",
      "Block 2: When the input is tensor([51,  6,  1], device='cuda:0') the next character is 47\n",
      "Block 3: When the input is tensor([51,  6,  1, 47], device='cuda:0') the next character is 44\n",
      "Block 4: When the input is tensor([51,  6,  1, 47, 44], device='cuda:0') the next character is 1\n",
      "Block 5: When the input is tensor([51,  6,  1, 47, 44,  1], device='cuda:0') the next character is 51\n",
      "Block 6: When the input is tensor([51,  6,  1, 47, 44,  1, 51], device='cuda:0') the next character is 63\n",
      "Block 7: When the input is tensor([51,  6,  1, 47, 44,  1, 51, 63], device='cuda:0') the next character is 1\n"
     ]
    }
   ],
   "source": [
    "for b in range(batch_size):\n",
    "    print(f'Example {b}')\n",
    "    for t in range(block_size):\n",
    "        context = xb[b, :t+1]\n",
    "        target = yb[b, t]\n",
    "        print(f'Block {t}: When the input is {context} the next character is {target}')"
   ]
  },
  {
   "cell_type": "code",
   "execution_count": 23,
   "id": "b2dbc850",
   "metadata": {},
   "outputs": [],
   "source": [
    "@torch.no_grad()\n",
    "def estimate_loss(model: Transformer, train_dataset: Tensor, val_dataset: Tensor, eval_iterations: int, batch_size: int, block_size: int, device = None) -> typing.Dict[str, torch.types.Number]:\n",
    "    dataset_splits = {'train': train_dataset, 'val': val_dataset}\n",
    "    out = dict()\n",
    "    for split_name, split_dataset in dataset_splits.items():\n",
    "        losses = torch.zeros(eval_iterations, device=device)\n",
    "        for i in range(eval_iterations):\n",
    "            xb, yb = get_batch(split_dataset, batch_size, block_size, device)\n",
    "            logits, loss = model(xb, yb)\n",
    "            losses[i] = loss.item()\n",
    "        out[split_name] = losses.mean().item()\n",
    "    return out"
   ]
  },
  {
   "cell_type": "code",
   "execution_count": null,
   "id": "49859c31",
   "metadata": {},
   "outputs": [
    {
     "name": "stdout",
     "output_type": "stream",
     "text": [
      "Step: 0      , last seen loss: 4.3402, estimated training loss: 4.1186, estimated validation loss: 4.1237\n",
      "Step: 40     , last seen loss: 3.2581, estimated training loss: 3.3166, estimated validation loss: 3.3204\n",
      "Step: 80     , last seen loss: 3.2803, estimated training loss: 3.3115, estimated validation loss: 3.3125\n",
      "Step: 120    , last seen loss: 3.1984, estimated training loss: 3.3161, estimated validation loss: 3.3219\n",
      "Step: 160    , last seen loss: 3.3043, estimated training loss: 3.3236, estimated validation loss: 3.3141\n",
      "Step: 200    , last seen loss: 3.2348, estimated training loss: 3.3185, estimated validation loss: 3.3165\n",
      "Step: 240    , last seen loss: 3.3689, estimated training loss: 3.3122, estimated validation loss: 3.3152\n",
      "Step: 280    , last seen loss: 3.2934, estimated training loss: 3.3256, estimated validation loss: 3.3107\n",
      "Step: 320    , last seen loss: 3.2544, estimated training loss: 3.3178, estimated validation loss: 3.3117\n",
      "Step: 360    , last seen loss: 3.1222, estimated training loss: 3.3292, estimated validation loss: 3.3082\n",
      "Step: 400    , last seen loss: 3.1817, estimated training loss: 3.3162, estimated validation loss: 3.3148\n",
      "Step: 440    , last seen loss: 3.3528, estimated training loss: 3.3128, estimated validation loss: 3.3059\n",
      "Step: 480    , last seen loss: 3.3686, estimated training loss: 3.3090, estimated validation loss: 3.3061\n",
      "Step: 520    , last seen loss: 3.3839, estimated training loss: 3.2994, estimated validation loss: 3.2933\n",
      "Step: 560    , last seen loss: 3.2555, estimated training loss: 3.2913, estimated validation loss: 3.2900\n",
      "Step: 600    , last seen loss: 3.2691, estimated training loss: 3.2332, estimated validation loss: 3.2345\n",
      "Step: 640    , last seen loss: 3.1700, estimated training loss: 3.1592, estimated validation loss: 3.1557\n",
      "Step: 680    , last seen loss: 3.2063, estimated training loss: 3.1195, estimated validation loss: 3.1195\n",
      "Step: 720    , last seen loss: 3.1853, estimated training loss: 3.0742, estimated validation loss: 3.0719\n",
      "Step: 760    , last seen loss: 3.1643, estimated training loss: 3.0305, estimated validation loss: 3.0328\n",
      "Step: 800    , last seen loss: 3.0379, estimated training loss: 2.9753, estimated validation loss: 2.9799\n",
      "Step: 840    , last seen loss: 2.9836, estimated training loss: 2.9460, estimated validation loss: 2.9364\n",
      "Step: 880    , last seen loss: 2.9870, estimated training loss: 2.9163, estimated validation loss: 2.8997\n",
      "Step: 920    , last seen loss: 2.8975, estimated training loss: 2.8600, estimated validation loss: 2.8509\n",
      "Step: 960    , last seen loss: 2.9358, estimated training loss: 2.8142, estimated validation loss: 2.8043\n"
     ]
    }
   ],
   "source": [
    "batch_size = 32\n",
    "max_steps = 5_000\n",
    "learning_rate = 1e-4\n",
    "epochs = 30\n",
    "eval_iterations = 300\n",
    "\n",
    "model = Transformer(\n",
    "    number_of_layers=4,\n",
    "    vocab_size=vocab_size,\n",
    "    number_of_heads=4,\n",
    "    embedding_dimension=64,\n",
    "    block_size=block_size,\n",
    "    dropout_probability=0.2,\n",
    "    device=device\n",
    ")\n",
    "\n",
    "optimizer = torch.optim.AdamW(model.parameters(), lr=learning_rate)\n",
    "scheduler = torch.optim.lr_scheduler.StepLR(optimizer, step_size=1, gamma=0.9)\n",
    "\n",
    "model.train()\n",
    "\n",
    "for epoch in range(epochs):\n",
    "    for step in range(max_steps):\n",
    "        xb, yb = get_batch(train_data, batch_size=batch_size, block_size=block_size, device=device)\n",
    "\n",
    "        logits, loss = model(xb, yb)\n",
    "\n",
    "        logits = typing.cast(Tensor, logits)\n",
    "        loss = typing.cast(Tensor, loss)\n",
    "\n",
    "        optimizer.zero_grad(set_to_none=True)\n",
    "        loss.backward()\n",
    "        optimizer.step()\n",
    "\n",
    "    model.eval()\n",
    "\n",
    "    loss_dict = estimate_loss(model, train_data, val_data, eval_iterations, batch_size, block_size, device)\n",
    "    print(f'Step: {step:<7}, estimated training loss: {loss_dict[\"train\"]:.4f}, estimated validation loss: {loss_dict[\"val\"]:.4f}')\n",
    "\n",
    "    model.train()\n",
    "    scheduler.step()"
   ]
  },
  {
   "cell_type": "code",
   "execution_count": 25,
   "id": "0a402c0e",
   "metadata": {},
   "outputs": [
    {
     "name": "stdout",
     "output_type": "stream",
     "text": [
      "\n",
      "\n",
      "N:SBsomd wed lnel?e god whea A gne, t blysunkagf,\n",
      "Kkr reirwth,\n",
      ":Hee ton ist tenn lhoyh;\n",
      "Sdo,\n",
      "THrune,\n",
      "Tlssl wre s coqd buahannitas dg n sat nthtaue fiffinj prd gol toueeo tod sr f bocr mi dele uitls u snosoawids'reg, at fenund nttaor toicsad\n",
      "\n",
      "wee naods a s hocg w mlawt st est,\n",
      "Songo: theey\n",
      "\n",
      "Hrns b.\n",
      "usr toksrory foay vhciraraatine toid,\n",
      "S:GKN:AZVURHaI\n",
      " Y'rr we bn\n",
      "\n",
      "SRCodalyt te descte weai t tcdk! rons lt luws uawsltt shot'v tecd nh nrunasgent thst bipuge.\n",
      "MAvnl mavssys moncy dee, utegrs rit. nr b fos hre feiaur neidt rds'ge msthe, ab sloneiiois.\n",
      "\n",
      "Od bu,\n",
      "Sod.Hets oneriodmy ugde m, mooulesr. fuhdsh goinn. tniepfn gn yoldc,gy Ghur  Fudmt basok bdosi, gheretd\n",
      " Eet yoI ref itrlett.\n",
      "Tfris leslut pstepy wiv fc, aisudtd nnaIhf de kiw mosei ts fout\n",
      "d wowt t,\n",
      "OUTuo o! teim, iai yaasn to oslnll mr yde soect uhv. jh t rop sus vit wsd,\n",
      "Aha Say it csiy\n",
      "\n",
      "\n",
      "Hotett tiy tot Ih tyshe svoe umy sei ?emf.\n",
      "TICL\n",
      "\n",
      "KOCsw.\n",
      "\n",
      "Hlhde  blaTd 'urir sn,\n",
      "\n",
      "Tau?\n",
      "Bnidd aues urh'srA -of.\n",
      " cl, sesd henor s ceontolt:\n",
      "Aoln ile h\n"
     ]
    }
   ],
   "source": [
    "model.eval()\n",
    "idx = torch.zeros((1, 1), dtype=torch.long, device=device)\n",
    "next_idx = model.generate(idx, max_new_tokens=1000)[0].tolist()\n",
    "next_str = decode(next_idx)\n",
    "print(next_str)"
   ]
  }
 ],
 "metadata": {
  "kernelspec": {
   "display_name": "ml_cuda12.2",
   "language": "python",
   "name": "python3"
  },
  "language_info": {
   "codemirror_mode": {
    "name": "ipython",
    "version": 3
   },
   "file_extension": ".py",
   "mimetype": "text/x-python",
   "name": "python",
   "nbconvert_exporter": "python",
   "pygments_lexer": "ipython3",
   "version": "3.12.9"
  }
 },
 "nbformat": 4,
 "nbformat_minor": 5
}
